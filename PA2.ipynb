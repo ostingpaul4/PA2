{
 "cells": [
  {
   "cell_type": "markdown",
   "id": "0ad73920",
   "metadata": {},
   "source": [
    "Paul Osting"
   ]
  },
  {
   "cell_type": "markdown",
   "id": "76cdd0e5",
   "metadata": {},
   "source": [
    "Assignment 2"
   ]
  },
  {
   "cell_type": "markdown",
   "id": "cd141140",
   "metadata": {},
   "source": [
    "Version 1"
   ]
  },
  {
   "cell_type": "markdown",
   "id": "c0c79889",
   "metadata": {},
   "source": [
    "CS-150-01"
   ]
  },
  {
   "cell_type": "code",
   "execution_count": 15,
   "id": "7bea8454",
   "metadata": {},
   "outputs": [
    {
     "name": "stdout",
     "output_type": "stream",
     "text": [
      "Enter a floating number: 202.2\n",
      "Enter an integer: 1\n",
      "The sum of the floating number and the integer is: 203.2\n",
      "The diference of the floating number and the integer is: 201.2\n",
      "The product of the floating number and the integer is: 202.2\n",
      "The quotient of the floating number and the integer is: 202.2\n"
     ]
    },
    {
     "ename": "TypeError",
     "evalue": "can only concatenate str (not \"type\") to str",
     "output_type": "error",
     "traceback": [
      "\u001b[1;31m---------------------------------------------------------------------------\u001b[0m",
      "\u001b[1;31mTypeError\u001b[0m                                 Traceback (most recent call last)",
      "\u001b[1;32m~\\AppData\\Local\\Temp\\ipykernel_18084\\1254340909.py\u001b[0m in \u001b[0;36m<module>\u001b[1;34m\u001b[0m\n\u001b[0;32m      9\u001b[0m \u001b[0mdiv\u001b[0m\u001b[1;33m=\u001b[0m\u001b[0mnumberf\u001b[0m\u001b[1;33m/\u001b[0m\u001b[0mnumberi\u001b[0m\u001b[1;33m\u001b[0m\u001b[1;33m\u001b[0m\u001b[0m\n\u001b[0;32m     10\u001b[0m \u001b[0mprint\u001b[0m\u001b[1;33m(\u001b[0m\u001b[1;34m\"The quotient of the floating number and the integer is:\"\u001b[0m\u001b[1;33m,\u001b[0m\u001b[0mdiv\u001b[0m\u001b[1;33m)\u001b[0m\u001b[1;33m\u001b[0m\u001b[1;33m\u001b[0m\u001b[0m\n\u001b[1;32m---> 11\u001b[1;33m \u001b[0mprint\u001b[0m\u001b[1;33m(\u001b[0m\u001b[1;34m\"The type of the output is\"\u001b[0m\u001b[1;33m+\u001b[0m\u001b[0mtype\u001b[0m\u001b[1;33m(\u001b[0m\u001b[0mdiv\u001b[0m\u001b[1;33m)\u001b[0m\u001b[1;33m)\u001b[0m\u001b[1;33m\u001b[0m\u001b[1;33m\u001b[0m\u001b[0m\n\u001b[0m",
      "\u001b[1;31mTypeError\u001b[0m: can only concatenate str (not \"type\") to str"
     ]
    }
   ],
   "source": [
    "numberf=float(input(\"Enter a floating number: \"))\n",
    "numberi=int(input(\"Enter an integer: \"))\n",
    "add=numberf+numberi\n",
    "print(\"The sum of the floating number and the integer is:\",add)\n",
    "sub=numberf-numberi\n",
    "print(\"The diference of the floating number and the integer is:\",sub)\n",
    "mult=numberf*numberi\n",
    "print(\"The product of the floating number and the integer is:\",mult)\n",
    "div=numberf/numberi\n",
    "print(\"The quotient of the floating number and the integer is:\",div)\n",
    "strtype=str(type(div))\n",
    "print(\"The type of the output is \"+strtype)"
   ]
  },
  {
   "cell_type": "code",
   "execution_count": null,
   "id": "6e8e1382",
   "metadata": {},
   "outputs": [],
   "source": []
  }
 ],
 "metadata": {
  "kernelspec": {
   "display_name": "Python 3 (ipykernel)",
   "language": "python",
   "name": "python3"
  },
  "language_info": {
   "codemirror_mode": {
    "name": "ipython",
    "version": 3
   },
   "file_extension": ".py",
   "mimetype": "text/x-python",
   "name": "python",
   "nbconvert_exporter": "python",
   "pygments_lexer": "ipython3",
   "version": "3.9.13"
  }
 },
 "nbformat": 4,
 "nbformat_minor": 5
}
