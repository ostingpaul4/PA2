{
 "cells": [
  {
   "cell_type": "markdown",
   "id": "ada056df",
   "metadata": {},
   "source": [
    "Paul Osting"
   ]
  },
  {
   "cell_type": "markdown",
   "id": "66ca2559",
   "metadata": {},
   "source": [
    "Version 1"
   ]
  },
  {
   "cell_type": "markdown",
   "id": "44a9c30f",
   "metadata": {},
   "source": [
    "Assignment 3 on Lists and Tuples"
   ]
  },
  {
   "cell_type": "markdown",
   "id": "fc828422",
   "metadata": {},
   "source": [
    "CS150-01"
   ]
  },
  {
   "cell_type": "markdown",
   "id": "769e603b",
   "metadata": {},
   "source": []
  },
  {
   "cell_type": "markdown",
   "id": "a6654ab9",
   "metadata": {},
   "source": [
    "append() adds an element to a list at the end of the list "
   ]
  },
  {
   "cell_type": "code",
   "execution_count": 1,
   "id": "9a9a9748",
   "metadata": {},
   "outputs": [
    {
     "data": {
      "text/plain": [
       "['Brady', 'Paul', 'Davis', 'Plumlee']"
      ]
     },
     "execution_count": 1,
     "metadata": {},
     "output_type": "execute_result"
    }
   ],
   "source": [
    "names=[\"Brady\",'Paul','Davis']\n",
    "names.append('Plumlee')\n",
    "names"
   ]
  },
  {
   "cell_type": "markdown",
   "id": "316242ff",
   "metadata": {},
   "source": [
    "extend() adds a list to the end of another list.  "
   ]
  },
  {
   "cell_type": "code",
   "execution_count": 2,
   "id": "ad283eb3",
   "metadata": {},
   "outputs": [
    {
     "name": "stdout",
     "output_type": "stream",
     "text": [
      "['Brady', 'Paul', 'Davis', 'Plumlee', 1, 2, 3]\n"
     ]
    }
   ],
   "source": [
    "numbers=[1,2,3]\n",
    "names.extend(numbers)\n",
    "print(names)"
   ]
  },
  {
   "cell_type": "markdown",
   "id": "7a80f3f2",
   "metadata": {},
   "source": [
    "insert() adds the element to a desired index position expressed in the parentheses (index position-1, element)"
   ]
  },
  {
   "cell_type": "code",
   "execution_count": 3,
   "id": "adcb0232",
   "metadata": {},
   "outputs": [
    {
     "data": {
      "text/plain": [
       "[1, 2, 3, 4]"
      ]
     },
     "execution_count": 3,
     "metadata": {},
     "output_type": "execute_result"
    }
   ],
   "source": [
    "numbers.insert(4,4)\n",
    "numbers"
   ]
  },
  {
   "cell_type": "markdown",
   "id": "58ad2114",
   "metadata": {},
   "source": [
    "remove() gets rid of the element by the element’s name"
   ]
  },
  {
   "cell_type": "code",
   "execution_count": 4,
   "id": "7f1e8d82",
   "metadata": {},
   "outputs": [
    {
     "data": {
      "text/plain": [
       "[1, 2, 3]"
      ]
     },
     "execution_count": 4,
     "metadata": {},
     "output_type": "execute_result"
    }
   ],
   "source": [
    "numbers.remove(4)\n",
    "numbers"
   ]
  },
  {
   "cell_type": "markdown",
   "id": "b654f817",
   "metadata": {},
   "source": [
    "count() tells the user how many times a specific element is in a specific list "
   ]
  },
  {
   "cell_type": "code",
   "execution_count": 7,
   "id": "ba12dd2a",
   "metadata": {},
   "outputs": [
    {
     "data": {
      "text/plain": [
       "1"
      ]
     },
     "execution_count": 7,
     "metadata": {},
     "output_type": "execute_result"
    }
   ],
   "source": [
    "numbers.count(1)"
   ]
  },
  {
   "cell_type": "raw",
   "id": "69412001",
   "metadata": {},
   "source": [
    "index() tells the user what the index number is of the element in the parentheses"
   ]
  },
  {
   "cell_type": "code",
   "execution_count": 9,
   "id": "6845a825",
   "metadata": {},
   "outputs": [
    {
     "data": {
      "text/plain": [
       "0"
      ]
     },
     "execution_count": 9,
     "metadata": {},
     "output_type": "execute_result"
    }
   ],
   "source": [
    "numbers.index(1)"
   ]
  },
  {
   "cell_type": "markdown",
   "id": "39581fa6",
   "metadata": {},
   "source": [
    "pop() removes the element by the index number"
   ]
  },
  {
   "cell_type": "code",
   "execution_count": 10,
   "id": "186dc2a9",
   "metadata": {},
   "outputs": [
    {
     "data": {
      "text/plain": [
       "['Brady', 'Paul', 'Davis', 'Plumlee', 1, 2]"
      ]
     },
     "execution_count": 10,
     "metadata": {},
     "output_type": "execute_result"
    }
   ],
   "source": [
    "names.pop(-1)\n",
    "names"
   ]
  },
  {
   "cell_type": "markdown",
   "id": "7a8a2b47",
   "metadata": {},
   "source": [
    "sorted() temporarily sorts a list. "
   ]
  },
  {
   "cell_type": "code",
   "execution_count": 12,
   "id": "63745b4e",
   "metadata": {},
   "outputs": [
    {
     "data": {
      "text/plain": [
       "[1, 2, 3, 6, 8, 9]"
      ]
     },
     "execution_count": 12,
     "metadata": {},
     "output_type": "execute_result"
    }
   ],
   "source": [
    "rannum=[9,2,3,1,6,8]\n",
    "sorted(rannum)"
   ]
  },
  {
   "cell_type": "code",
   "execution_count": 14,
   "id": "03bd72cc",
   "metadata": {},
   "outputs": [
    {
     "data": {
      "text/plain": [
       "[9, 2, 3, 1, 6, 8]"
      ]
     },
     "execution_count": 14,
     "metadata": {},
     "output_type": "execute_result"
    }
   ],
   "source": [
    "rannum #This box is showing that the list is only temporarily sorted"
   ]
  },
  {
   "cell_type": "markdown",
   "id": "c1fe2c99",
   "metadata": {},
   "source": [
    "copy() copies a list into another list  "
   ]
  },
  {
   "cell_type": "code",
   "execution_count": 16,
   "id": "54bd26f5",
   "metadata": {},
   "outputs": [
    {
     "data": {
      "text/plain": [
       "[9, 2, 3, 1, 6, 8]"
      ]
     },
     "execution_count": 16,
     "metadata": {},
     "output_type": "execute_result"
    }
   ],
   "source": [
    "newnum=rannum.copy()\n",
    "newnum"
   ]
  },
  {
   "cell_type": "markdown",
   "id": "7ddf6b55",
   "metadata": {},
   "source": [
    "clear() removes all elements in a list  "
   ]
  },
  {
   "cell_type": "code",
   "execution_count": 17,
   "id": "5e7b7772",
   "metadata": {},
   "outputs": [
    {
     "data": {
      "text/plain": [
       "[]"
      ]
     },
     "execution_count": 17,
     "metadata": {},
     "output_type": "execute_result"
    }
   ],
   "source": [
    "newnum.clear()\n",
    "newnum"
   ]
  },
  {
   "cell_type": "markdown",
   "id": "616329b3",
   "metadata": {},
   "source": [
    "list() creates a list"
   ]
  },
  {
   "cell_type": "code",
   "execution_count": 20,
   "id": "712142b9",
   "metadata": {},
   "outputs": [
    {
     "data": {
      "text/plain": [
       "['S', 'a', 'l', 'l', 'y']"
      ]
     },
     "execution_count": 20,
     "metadata": {},
     "output_type": "execute_result"
    }
   ],
   "source": [
    "newname=\"Sally\"\n",
    "list(newname)"
   ]
  },
  {
   "cell_type": "markdown",
   "id": "d43a223f",
   "metadata": {},
   "source": [
    "len() returns the length of an object "
   ]
  },
  {
   "cell_type": "code",
   "execution_count": 21,
   "id": "87c930a9",
   "metadata": {},
   "outputs": [
    {
     "data": {
      "text/plain": [
       "5"
      ]
     },
     "execution_count": 21,
     "metadata": {},
     "output_type": "execute_result"
    }
   ],
   "source": [
    "len(newname)"
   ]
  },
  {
   "cell_type": "markdown",
   "id": "a619f074",
   "metadata": {},
   "source": [
    "max() returns the maximum value in a list"
   ]
  },
  {
   "cell_type": "code",
   "execution_count": 22,
   "id": "b4886b8e",
   "metadata": {},
   "outputs": [
    {
     "data": {
      "text/plain": [
       "3"
      ]
     },
     "execution_count": 22,
     "metadata": {},
     "output_type": "execute_result"
    }
   ],
   "source": [
    "max(numbers)"
   ]
  },
  {
   "cell_type": "markdown",
   "id": "b8189295",
   "metadata": {},
   "source": [
    "min() returns the minimum value in a list  "
   ]
  },
  {
   "cell_type": "code",
   "execution_count": 23,
   "id": "ead56148",
   "metadata": {},
   "outputs": [
    {
     "data": {
      "text/plain": [
       "1"
      ]
     },
     "execution_count": 23,
     "metadata": {},
     "output_type": "execute_result"
    }
   ],
   "source": [
    "min(numbers)"
   ]
  }
 ],
 "metadata": {
  "kernelspec": {
   "display_name": "Python 3 (ipykernel)",
   "language": "python",
   "name": "python3"
  },
  "language_info": {
   "codemirror_mode": {
    "name": "ipython",
    "version": 3
   },
   "file_extension": ".py",
   "mimetype": "text/x-python",
   "name": "python",
   "nbconvert_exporter": "python",
   "pygments_lexer": "ipython3",
   "version": "3.9.13"
  }
 },
 "nbformat": 4,
 "nbformat_minor": 5
}
